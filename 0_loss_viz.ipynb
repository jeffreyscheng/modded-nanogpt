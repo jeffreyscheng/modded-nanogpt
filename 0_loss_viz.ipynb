{
 "cells": [
  {
   "cell_type": "code",
   "execution_count": 1,
   "metadata": {},
   "outputs": [],
   "source": [
    "import csv\n",
    "import re\n",
    "import pandas as pd\n",
    "import matplotlib.pyplot as plt"
   ]
  },
  {
   "cell_type": "code",
   "execution_count": 2,
   "metadata": {},
   "outputs": [],
   "source": [
    "def parse_log_file(input_file, output_file):\n",
    "    \"\"\"\n",
    "    Parse training log file and extract validation loss data into CSV.\n",
    "    \n",
    "    Args:\n",
    "        input_file (str): Path to input log file\n",
    "        output_file (str): Path to output CSV file\n",
    "    \"\"\"\n",
    "    # Compile regex pattern to match validation loss lines\n",
    "    pattern = r'step:(\\d+)/\\d+ val_loss:([\\d.]+) train_time:(\\d+)ms'\n",
    "    \n",
    "    # Store the extracted data\n",
    "    validation_data = []\n",
    "    \n",
    "    # Read and process the log file\n",
    "    with open(input_file, 'r') as f:\n",
    "        for line in f:\n",
    "            if 'val_loss' in line:\n",
    "                match = re.match(pattern, line.strip())\n",
    "                if match:\n",
    "                    step = int(match.group(1))\n",
    "                    val_loss = float(match.group(2))\n",
    "                    train_time = int(match.group(3))\n",
    "                    validation_data.append([step, val_loss, train_time])\n",
    "    \n",
    "    # Write to CSV file\n",
    "    with open(output_file, 'w', newline='') as f:\n",
    "        writer = csv.writer(f)\n",
    "        # Write header\n",
    "        writer.writerow(['step', 'val_loss', 'train_time'])\n",
    "        # Write data\n",
    "        writer.writerows(validation_data)\n"
   ]
  },
  {
   "cell_type": "code",
   "execution_count": 3,
   "metadata": {},
   "outputs": [],
   "source": [
    "# for every .txt file in logs/, run parse_log_file on it\n",
    "import os\n",
    "for file in os.listdir('logs/'):\n",
    "    if file.endswith('.txt'):\n",
    "        parse_log_file(f'logs/{file}', f'logs/{file.replace('.txt', '.csv')}')"
   ]
  },
  {
   "cell_type": "code",
   "execution_count": 4,
   "metadata": {},
   "outputs": [
    {
     "name": "stdout",
     "output_type": "stream",
     "text": [
      "00cfd179-31f48b80.csv\n",
      "c1930484-31f48b80.csv\n",
      "cb424576-e77502d3.csv\n",
      "ab2d5034-e77502d3.csv\n",
      "03246a0d-e77502d3.csv\n",
      "reference.csv\n",
      "8f3b0bb4-31f48b80.csv\n",
      "c083d2d4-31f48b80.csv\n",
      "55db2b0c-e77502d3.csv\n",
      "ab2d5034-31f48b80.csv\n"
     ]
    },
    {
     "data": {
      "image/png": "[encoded data removed]",
      "text/plain": [
       "<Figure size 640x480 with 1 Axes>"
      ]
     },
     "metadata": {},
     "output_type": "display_data"
    }
   ],
   "source": [
    "list_of_results = []    \n",
    "\n",
    "for file in os.listdir('logs/'):\n",
    "    if file.endswith('.csv'):\n",
    "        df = pd.read_csv(f'logs/{file}')\n",
    "        df['file'] = file.replace('.csv', '')\n",
    "        list_of_results.append(df)\n",
    "\n",
    "        # plot the validation loss by train time for each file\n",
    "        plt.plot(df['step'], df['val_loss'], label=file)\n",
    "        print(file)\n",
    "plt.yscale('log')\n",
    "plt.show()\n"
   ]
  },
  {
   "cell_type": "code",
   "execution_count": 5,
   "metadata": {},
   "outputs": [],
   "source": [
    "# the first line of the log files is always the hyperparameters\n",
    "# here is an example:\n",
    "# --num_iterations 1000 --embedding_lr 0.1 --lm_head_lr 0.002 --muon_lr 0.02 --scalar_lr 0.01 --muon_momentum 0.95 --warmdown_iters 926\n",
    "\n",
    "# extract the hyperparameters from the first line of the log file\n",
    "# and make a df with the hyperparameters and the corresponding validation loss at step 1000\n",
    "\n",
    "records = []\n",
    "\n",
    "for file in os.listdir('logs/'):\n",
    "    if file.endswith('.txt'):\n",
    "        with open(f'logs/{file}', 'r') as f:\n",
    "            first_line = f.readline()\n",
    "            hps = re.findall(r'--(\\w+)\\s+(\\S+)', first_line)\n",
    "            hps = dict(hps)\n",
    "            hps['file'] = file.replace('.txt', '')\n",
    "            records.append(hps)\n",
    "\n",
    "hyperparams_df = pd.DataFrame(records)\n"
   ]
  },
  {
   "cell_type": "code",
   "execution_count": 6,
   "metadata": {},
   "outputs": [
    {
     "name": "stderr",
     "output_type": "stream",
     "text": [
      "/tmp/ipykernel_814925/896509705.py:1: FutureWarning: The behavior of DataFrame concatenation with empty or all-NA entries is deprecated. In a future version, this will no longer exclude empty or all-NA columns when determining the result dtypes. To retain the old behavior, exclude the relevant entries before the concat operation.\n",
      "  results_df = pd.concat(list_of_results)\n"
     ]
    },
    {
     "data": {
      "text/html": [
       "<div>\n",
       "<style scoped>\n",
       "    .dataframe tbody tr th:only-of-type {\n",
       "        vertical-align: middle;\n",
       "    }\n",
       "\n",
       "    .dataframe tbody tr th {\n",
       "        vertical-align: top;\n",
       "    }\n",
       "\n",
       "    .dataframe thead th {\n",
       "        text-align: right;\n",
       "    }\n",
       "</style>\n",
       "<table border=\"1\" class=\"dataframe\">\n",
       "  <thead>\n",
       "    <tr style=\"text-align: right;\">\n",
       "      <th></th>\n",
       "      <th>num_iterations</th>\n",
       "      <th>val_loss_every</th>\n",
       "      <th>orthogonalize_every</th>\n",
       "      <th>file</th>\n",
       "      <th>step</th>\n",
       "      <th>val_loss</th>\n",
       "      <th>train_time</th>\n",
       "    </tr>\n",
       "  </thead>\n",
       "  <tbody>\n",
       "    <tr>\n",
       "      <th>0</th>\n",
       "      <td>3300</td>\n",
       "      <td>100</td>\n",
       "      <td>10</td>\n",
       "      <td>ab2d5034-e77502d3</td>\n",
       "      <td>500</td>\n",
       "      <td>4.0411</td>\n",
       "      <td>308399</td>\n",
       "    </tr>\n",
       "    <tr>\n",
       "      <th>1</th>\n",
       "      <td>3300</td>\n",
       "      <td>100</td>\n",
       "      <td>10</td>\n",
       "      <td>cb424576-e77502d3</td>\n",
       "      <td>500</td>\n",
       "      <td>4.0594</td>\n",
       "      <td>306711</td>\n",
       "    </tr>\n",
       "  </tbody>\n",
       "</table>\n",
       "</div>"
      ],
      "text/plain": [
       "  num_iterations val_loss_every orthogonalize_every               file step  \\\n",
       "0           3300            100                  10  ab2d5034-e77502d3  500   \n",
       "1           3300            100                  10  cb424576-e77502d3  500   \n",
       "\n",
       "   val_loss train_time  \n",
       "0    4.0411     308399  \n",
       "1    4.0594     306711  "
      ]
     },
     "execution_count": 6,
     "metadata": {},
     "output_type": "execute_result"
    }
   ],
   "source": [
    "results_df = pd.concat(list_of_results)\n",
    "\n",
    "# i implemented an early stop at step 500 if the validation loss was really bad\n",
    "# add a check to see if the validation loss exists at step 500 but not step 1000\n",
    "# if so, add a new row to the results_df with the validation loss at step 500 copied to step 1000\n",
    "\n",
    "# all_runs = results_df.loc[results_df['step'] == 500, 'file'].unique()\n",
    "# all_runs_that_did_not_early_stop = results_df.loc[results_df['step'] == 1000, 'file'].unique()\n",
    "# early_stopped_runs = set(all_runs) - set(all_runs_that_did_not_early_stop)\n",
    "\n",
    "# create a df with exactly one row for each early stopped run\n",
    "# that has the validation loss at step 500 copied to step 1000\n",
    "# early_stop_records = []\n",
    "# for run in early_stopped_runs:\n",
    "#     early_stop_records.append(\n",
    "#         {\n",
    "#             \"file\": run,\n",
    "#             \"step\": 1000,\n",
    "#             \"val_loss\": 10\n",
    "#         }\n",
    "#     )\n",
    "# early_stop_df = pd.DataFrame(early_stop_records)\n",
    "# results_df = results_df.loc[results_df['step'] == 1000, :]\n",
    "\n",
    "\n",
    "full_runs = results_df.loc[results_df['step'] == 500, 'file'].unique()\n",
    "full_runs_df = results_df.loc[results_df['file'].isin(full_runs), :]\n",
    "\n",
    "# results_df = pd.concat([results_df, early_stop_df])\n",
    "results_df = full_runs_df\n",
    "results_df = results_df.loc[results_df['step'] == 500, :]\n",
    "\n",
    "# join on file\n",
    "joined_df = hyperparams_df.merge(results_df, on='file', how='inner')\n",
    "joined_df.head(10).sort_values(by='val_loss')"
   ]
  },
  {
   "cell_type": "code",
   "execution_count": 7,
   "metadata": {},
   "outputs": [
    {
     "data": {
      "text/html": [
       "<div>\n",
       "<style scoped>\n",
       "    .dataframe tbody tr th:only-of-type {\n",
       "        vertical-align: middle;\n",
       "    }\n",
       "\n",
       "    .dataframe tbody tr th {\n",
       "        vertical-align: top;\n",
       "    }\n",
       "\n",
       "    .dataframe thead th {\n",
       "        text-align: right;\n",
       "    }\n",
       "</style>\n",
       "<table border=\"1\" class=\"dataframe\">\n",
       "  <thead>\n",
       "    <tr style=\"text-align: right;\">\n",
       "      <th></th>\n",
       "      <th>num_iterations</th>\n",
       "      <th>val_loss_every</th>\n",
       "      <th>orthogonalize_every</th>\n",
       "      <th>file</th>\n",
       "      <th>step</th>\n",
       "      <th>val_loss</th>\n",
       "      <th>train_time</th>\n",
       "    </tr>\n",
       "  </thead>\n",
       "  <tbody>\n",
       "  </tbody>\n",
       "</table>\n",
       "</div>"
      ],
      "text/plain": [
       "Empty DataFrame\n",
       "Columns: [num_iterations, val_loss_every, orthogonalize_every, file, step, val_loss, train_time]\n",
       "Index: []"
      ]
     },
     "execution_count": 7,
     "metadata": {},
     "output_type": "execute_result"
    }
   ],
   "source": [
    "joined_df.loc[joined_df['val_loss'] <= 3.28, :].sort_values(by='train_time')"
   ]
  },
  {
   "cell_type": "code",
   "execution_count": 8,
   "metadata": {},
   "outputs": [
    {
     "data": {
      "image/png": "[encoded data removed]",
      "text/plain": [
       "<Figure size 640x480 with 1 Axes>"
      ]
     },
     "metadata": {},
     "output_type": "display_data"
    }
   ],
   "source": [
    "# for each full run, plot the validation loss by train_time\n",
    "for file in full_runs:\n",
    "    df = joined_df.loc[(joined_df['file'] == file) & (joined_df['step'] >= 00), :]\n",
    "    # if the file is called \"reference_run\", add a special label\n",
    "    # if file == \"reference_run\":\n",
    "    if file == \"98e80c8f-3e2745af\":\n",
    "        plt.plot(df['train_time'], df['val_loss'], label=file, linestyle='--')\n",
    "    else:\n",
    "        plt.plot(df['train_time'], df['val_loss'], label=file)\n",
    "plt.yscale('log')\n",
    "# plt.legend()\n",
    "plt.show()\n"
   ]
  },
  {
   "cell_type": "code",
   "execution_count": 9,
   "metadata": {},
   "outputs": [],
   "source": [
    "# import numpy as np\n",
    "# import pandas as pd\n",
    "# from sklearn.gaussian_process import GaussianProcessRegressor\n",
    "# from sklearn.gaussian_process.kernels import Matern\n",
    "# from scipy.stats import norm\n",
    "\n",
    "# df = joined_df\n",
    "# df = df.dropna()\n",
    "# sweep_vars = ['embedding_lr', 'muon_lr']\n",
    "\n",
    "# X = df[sweep_vars].values  # Hyperparameters\n",
    "# y = df[\"val_loss\"].values - 10  # Validation losses\n",
    "# kernel = Matern(nu=2.5)\n",
    "# gp = GaussianProcessRegressor(kernel=kernel, n_restarts_optimizer=10, random_state=42)\n",
    "# gp.fit(X, y)\n",
    "\n",
    "# n_samples = 10000  # Number of new settings to sample\n",
    "# def sample_log_uniform(min_val, max_val, size=1):\n",
    "#     \"\"\"Sample log-uniformly between min_val and max_val.\"\"\"\n",
    "#     return np.exp(np.random.uniform(np.log(min_val), np.log(max_val), size))\n",
    "\n",
    "# # Define the min and max for each hyperparameter\n",
    "# # Replace these with the actual ranges for your parameters\n",
    "# hyperparameter_ranges = {\n",
    "#     'embedding_lr': (0.0001, 0.5),\n",
    "#     # 'lm_head_lr': (0.0002, 0.2),\n",
    "#     'muon_lr': (0.001, 1),\n",
    "#     # 'scalar_lr': (0.001, 1),\n",
    "# }\n",
    "\n",
    "# # Number of samples to generate\n",
    "# n_samples = 100\n",
    "\n",
    "# # Sample log-uniformly for each hyperparameter\n",
    "# samples = {\n",
    "#     param: sample_log_uniform(min_val, max_val, n_samples)\n",
    "#     for param, (min_val, max_val) in hyperparameter_ranges.items()\n",
    "# }\n",
    "# X_new = np.array(list(samples.values())).T\n",
    "# y_mean, y_std = gp.predict(X_new, return_std=True)\n",
    "\n",
    "# best_loss = y.min()\n",
    "# improvement = best_loss - y_mean\n",
    "# Z = improvement / y_std\n",
    "# EI = improvement * norm.cdf(Z) + y_std * norm.pdf(Z)\n",
    "\n",
    "# # Select the top-k hyperparameters with the highest expected improvement\n",
    "# k = 10\n",
    "# top_k_indices = np.argsort(EI)[-k:]\n",
    "# top_k_hyperparameters = X_new[top_k_indices]\n",
    "\n",
    "# # Display selected hyperparameters\n",
    "# top_k_df = pd.DataFrame(top_k_hyperparameters, columns=sweep_vars)\n"
   ]
  },
  {
   "cell_type": "code",
   "execution_count": 10,
   "metadata": {},
   "outputs": [],
   "source": [
    "# top_k_df\n"
   ]
  },
  {
   "cell_type": "code",
   "execution_count": null,
   "metadata": {},
   "outputs": [],
   "source": []
  }
 ],
 "metadata": {
  "kernelspec": {
   "display_name": "base",
   "language": "python",
   "name": "python3"
  },
  "language_info": {
   "codemirror_mode": {
    "name": "ipython",
    "version": 3
   },
   "file_extension": ".py",
   "mimetype": "text/x-python",
   "name": "python",
   "nbconvert_exporter": "python",
   "pygments_lexer": "ipython3",
   "version": "3.12.7"
  }
 },
 "nbformat": 4,
 "nbformat_minor": 2
}
